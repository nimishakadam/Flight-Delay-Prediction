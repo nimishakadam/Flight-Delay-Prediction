{
  "cells": [
    {
      "cell_type": "markdown",
      "source": [
        "#Setting up the System"
      ],
      "metadata": {
        "id": "xgp7nfNwVDaH"
      }
    },
    {
      "cell_type": "code",
      "execution_count": null,
      "metadata": {
        "colab": {
          "base_uri": "https://localhost:8080/"
        },
        "id": "-EHJQvrvbUuo",
        "outputId": "cd89d940-c433-4703-bc4c-417a57543b5c"
      },
      "outputs": [
        {
          "output_type": "stream",
          "name": "stdout",
          "text": [
            "Mounted at /content/drive\n"
          ]
        }
      ],
      "source": [
        "from google.colab import drive\n",
        "drive.mount('/content/drive')"
      ]
    },
    {
      "cell_type": "code",
      "execution_count": null,
      "metadata": {
        "id": "L_GbVc3Mp1AK"
      },
      "outputs": [],
      "source": [
        "pip install pyspark &> /dev/null"
      ]
    },
    {
      "cell_type": "code",
      "source": [
        "#importing necessary libraries - Python\n",
        "import pandas as pd\n",
        "import numpy as np\n",
        "import matplotlib.pyplot as plt\n",
        "import seaborn as sns"
      ],
      "metadata": {
        "id": "boi7LHKEv3sl"
      },
      "execution_count": null,
      "outputs": []
    },
    {
      "cell_type": "code",
      "source": [
        "#starting a spark session - Pyspark\n",
        "from pyspark.sql import SparkSession\n",
        "from pyspark import SparkContext\n",
        "\n",
        "spark = SparkSession \\\n",
        "    .builder \\\n",
        "    .appName(\"IST718-Project\") \\\n",
        "    .getOrCreate()\n",
        "sc = SparkContext.getOrCreate()"
      ],
      "metadata": {
        "id": "GkOgCwLxwHBA"
      },
      "execution_count": null,
      "outputs": []
    },
    {
      "cell_type": "code",
      "execution_count": null,
      "metadata": {
        "id": "Dxugnjyfromt"
      },
      "outputs": [],
      "source": [
        "from pyspark.sql import SparkSession\n",
        "from pyspark.ml import feature\n",
        "from pyspark.ml import classification\n",
        "from pyspark.sql import functions as fn\n",
        "from pyspark.ml import feature, regression, evaluation, Pipeline\n",
        "from pyspark.ml.evaluation import BinaryClassificationEvaluator, MulticlassClassificationEvaluator, RegressionEvaluator\n",
        "from pyspark.ml.tuning import CrossValidator, ParamGridBuilder"
      ]
    },
    {
      "cell_type": "code",
      "execution_count": null,
      "metadata": {
        "id": "gmYzvhrssgDs"
      },
      "outputs": [],
      "source": [
        "#reading csv files\n",
        "flights_2008 = spark.read.csv(\"/content/drive/Shareddrives/BDA Project/Dataset/2008.csv\", header=True, inferSchema=True)\n",
        "airports = spark.read.csv(\"/content/drive/Shareddrives/BDA Project/Dataset/airports.csv\", header=True, inferSchema=True)\n",
        "carriers = spark.read.csv(\"/content/drive/Shareddrives/BDA Project/Dataset/carriers.csv\", header=True, inferSchema=True)\n",
        "plane_data = spark.read.csv(\"/content/drive/Shareddrives/BDA Project/Dataset/plane-data.csv\", header=True, inferSchema=True)"
      ]
    },
    {
      "cell_type": "markdown",
      "source": [
        "#Data Cleaning"
      ],
      "metadata": {
        "id": "OOXsoIoaU7QQ"
      }
    },
    {
      "cell_type": "code",
      "execution_count": null,
      "metadata": {
        "colab": {
          "base_uri": "https://localhost:8080/"
        },
        "id": "tZ4Jo6iv4CeK",
        "outputId": "1008bf39-46a0-4cbf-cf82-75fb9d091791"
      },
      "outputs": [
        {
          "output_type": "execute_result",
          "data": {
            "text/plain": [
              "[Row(country='Palau'),\n",
              " Row(country='N Mariana Islands'),\n",
              " Row(country='Thailand'),\n",
              " Row(country='USA'),\n",
              " Row(country='Federated States of Micronesia')]"
            ]
          },
          "metadata": {},
          "execution_count": 7
        }
      ],
      "source": [
        "airports.select('country').distinct().collect()"
      ]
    },
    {
      "cell_type": "code",
      "execution_count": null,
      "metadata": {
        "colab": {
          "base_uri": "https://localhost:8080/"
        },
        "id": "wwYysoXi4aht",
        "outputId": "71232b6b-ac1e-4711-db59-c5321b4292c1"
      },
      "outputs": [
        {
          "output_type": "stream",
          "name": "stdout",
          "text": [
            "+----+--------------------+----------------+-----+-------+-----------+------------+\n",
            "|iata|             airport|            city|state|country|        lat|        long|\n",
            "+----+--------------------+----------------+-----+-------+-----------+------------+\n",
            "| 00M|            Thigpen |     Bay Springs|   MS|    USA|31.95376472|-89.23450472|\n",
            "| 00R|Livingston Municipal|      Livingston|   TX|    USA|30.68586111|-95.01792778|\n",
            "| 00V|         Meadow Lake|Colorado Springs|   CO|    USA|38.94574889|-104.5698933|\n",
            "| 01G|        Perry-Warsaw|           Perry|   NY|    USA|42.74134667|-78.05208056|\n",
            "| 01J|    Hilliard Airpark|        Hilliard|   FL|    USA| 30.6880125|-81.90594389|\n",
            "| 01M|   Tishomingo County|         Belmont|   MS|    USA|34.49166667|-88.20111111|\n",
            "| 02A|         Gragg-Wade |         Clanton|   AL|    USA|32.85048667|-86.61145333|\n",
            "| 02C|             Capitol|      Brookfield|   WI|    USA|   43.08751|-88.17786917|\n",
            "| 02G|   Columbiana County|  East Liverpool|   OH|    USA|40.67331278|-80.64140639|\n",
            "| 03D|    Memphis Memorial|         Memphis|   MO|    USA|40.44725889|-92.22696056|\n",
            "+----+--------------------+----------------+-----+-------+-----------+------------+\n",
            "only showing top 10 rows\n",
            "\n"
          ]
        }
      ],
      "source": [
        "#filtering the dataset with only USA airport records\n",
        "airport_usa = airports.filter(\"country == 'USA'\")\n",
        "airport_usa.show(10)"
      ]
    },
    {
      "cell_type": "code",
      "execution_count": null,
      "metadata": {
        "id": "0DxCxmZ9Aobh"
      },
      "outputs": [],
      "source": [
        "iata_usa = airport_usa.select('iata').rdd.flatMap(lambda x: x).distinct().collect()"
      ]
    },
    {
      "cell_type": "code",
      "execution_count": null,
      "metadata": {
        "id": "fIgPzlhPKbqA"
      },
      "outputs": [],
      "source": [
        "#Arrival/Departure Country = USA\n",
        "flights_usa = flights_2008.filter((flights_2008.Origin.isin(iata_usa)) | (flights_2008.Dest.isin(iata_usa)))"
      ]
    },
    {
      "cell_type": "code",
      "source": [
        "flights_usa.groupBy('UniqueCarrier').count().show()"
      ],
      "metadata": {
        "id": "o79YhSN85WY_",
        "colab": {
          "base_uri": "https://localhost:8080/"
        },
        "outputId": "f32f6ff1-ad91-42a6-cb01-4b43f9e8f861"
      },
      "execution_count": null,
      "outputs": [
        {
          "output_type": "stream",
          "name": "stdout",
          "text": [
            "+-------------+------+\n",
            "|UniqueCarrier| count|\n",
            "+-------------+------+\n",
            "|           UA|154036|\n",
            "|           AA|204519|\n",
            "|           NW|122799|\n",
            "|           EV| 92383|\n",
            "|           B6| 67478|\n",
            "|           DL|151409|\n",
            "|           OO|195184|\n",
            "|           F9| 30680|\n",
            "|           YV| 85686|\n",
            "|           US|153539|\n",
            "|           AQ|  7800|\n",
            "|           MQ|167860|\n",
            "|           OH| 71934|\n",
            "|           HA| 18385|\n",
            "|           XE|138757|\n",
            "|           AS| 49885|\n",
            "|           FL| 86856|\n",
            "|           CO|102702|\n",
            "|           WN|398966|\n",
            "|           9E| 88359|\n",
            "+-------------+------+\n",
            "\n"
          ]
        }
      ]
    },
    {
      "cell_type": "code",
      "source": [
        "#selecting only top 2 carriers = UA and AA\n",
        "flights_usa = flights_usa.filter(flights_usa.UniqueCarrier.isin('AA','UA'))"
      ],
      "metadata": {
        "id": "mp-KdWnL-Apd"
      },
      "execution_count": null,
      "outputs": []
    },
    {
      "cell_type": "code",
      "source": [
        "flights_usa.printSchema()"
      ],
      "metadata": {
        "colab": {
          "base_uri": "https://localhost:8080/"
        },
        "id": "jj9-r4llXkbQ",
        "outputId": "cab9b61f-bb8a-4873-af8c-4aff67f6ee14"
      },
      "execution_count": null,
      "outputs": [
        {
          "output_type": "stream",
          "name": "stdout",
          "text": [
            "root\n",
            " |-- Year: integer (nullable = true)\n",
            " |-- Month: integer (nullable = true)\n",
            " |-- DayofMonth: integer (nullable = true)\n",
            " |-- DayOfWeek: integer (nullable = true)\n",
            " |-- DepTime: string (nullable = true)\n",
            " |-- CRSDepTime: integer (nullable = true)\n",
            " |-- ArrTime: string (nullable = true)\n",
            " |-- CRSArrTime: integer (nullable = true)\n",
            " |-- UniqueCarrier: string (nullable = true)\n",
            " |-- FlightNum: integer (nullable = true)\n",
            " |-- TailNum: string (nullable = true)\n",
            " |-- ActualElapsedTime: string (nullable = true)\n",
            " |-- CRSElapsedTime: string (nullable = true)\n",
            " |-- AirTime: string (nullable = true)\n",
            " |-- ArrDelay: string (nullable = true)\n",
            " |-- DepDelay: string (nullable = true)\n",
            " |-- Origin: string (nullable = true)\n",
            " |-- Dest: string (nullable = true)\n",
            " |-- Distance: integer (nullable = true)\n",
            " |-- TaxiIn: string (nullable = true)\n",
            " |-- TaxiOut: string (nullable = true)\n",
            " |-- Cancelled: integer (nullable = true)\n",
            " |-- CancellationCode: string (nullable = true)\n",
            " |-- Diverted: integer (nullable = true)\n",
            " |-- CarrierDelay: string (nullable = true)\n",
            " |-- WeatherDelay: string (nullable = true)\n",
            " |-- NASDelay: string (nullable = true)\n",
            " |-- SecurityDelay: string (nullable = true)\n",
            " |-- LateAircraftDelay: string (nullable = true)\n",
            "\n"
          ]
        }
      ]
    },
    {
      "cell_type": "code",
      "source": [
        "#dropping unnecessary columns\n",
        "drop_cols = ['FlightNum', 'TailNum', 'AirTime', 'TaxiIn', 'TaxiOut', 'CancellationCode', 'DepTime', 'CRSDepTime', 'ArrTime', 'CRSArrTime']\n",
        "\n",
        "flights_usa = flights_usa.drop(*drop_cols)"
      ],
      "metadata": {
        "id": "dAlSoIN_yaQP"
      },
      "execution_count": null,
      "outputs": []
    },
    {
      "cell_type": "code",
      "source": [
        "flights_usa=flights_usa.filter((flights_usa.ArrDelay != 'NA')&(flights_usa.DepDelay != 'NA')&(flights_usa.CarrierDelay != 'NA')&(flights_usa.WeatherDelay != 'NA')&(flights_usa.NASDelay != 'NA')&(flights_usa.SecurityDelay != 'NA')&(flights_usa.LateAircraftDelay != 'NA')&(flights_usa.CRSElapsedTime != 'NA')&(flights_usa.ActualElapsedTime != 'NA'))"
      ],
      "metadata": {
        "id": "Uhy74i_OVFVT"
      },
      "execution_count": null,
      "outputs": []
    },
    {
      "cell_type": "code",
      "source": [
        "#correcting schema of required columns\n",
        "flights_usa = flights_usa.withColumn('ArrDelay', flights_usa.ArrDelay.cast('int'))\n",
        "flights_usa = flights_usa.withColumn('DepDelay', flights_usa.DepDelay.cast('int'))\n",
        "flights_usa = flights_usa.withColumn('CarrierDelay', flights_usa.CarrierDelay.cast('int'))\n",
        "flights_usa = flights_usa.withColumn('WeatherDelay', flights_usa.WeatherDelay.cast('int'))\n",
        "flights_usa = flights_usa.withColumn('NASDelay', flights_usa.NASDelay.cast('int'))\n",
        "flights_usa = flights_usa.withColumn('SecurityDelay', flights_usa.SecurityDelay.cast('int'))\n",
        "flights_usa = flights_usa.withColumn('LateAircraftDelay', flights_usa.LateAircraftDelay.cast('int'))\n",
        "flights_usa = flights_usa.withColumn('CRSElapsedTime', flights_usa.CRSElapsedTime.cast('int'))\n",
        "flights_usa = flights_usa.withColumn('ActualElapsedTime', flights_usa.ActualElapsedTime.cast('int'))\n",
        "flights_usa = flights_usa.withColumn('Cancelled', flights_usa.Cancelled.cast('string'))\n",
        "flights_usa = flights_usa.withColumn('Diverted', flights_usa.Diverted.cast('string'))"
      ],
      "metadata": {
        "id": "Kl1NtOHK36k4"
      },
      "execution_count": null,
      "outputs": []
    },
    {
      "cell_type": "code",
      "source": [
        "#checking the final schema of the dataframe\n",
        "flights_usa.printSchema()"
      ],
      "metadata": {
        "colab": {
          "base_uri": "https://localhost:8080/"
        },
        "id": "UOtBo9QSYOl0",
        "outputId": "d80606f3-1a01-40f3-ed54-6221a2e30048"
      },
      "execution_count": null,
      "outputs": [
        {
          "output_type": "stream",
          "name": "stdout",
          "text": [
            "root\n",
            " |-- Year: integer (nullable = true)\n",
            " |-- Month: integer (nullable = true)\n",
            " |-- DayofMonth: integer (nullable = true)\n",
            " |-- DayOfWeek: integer (nullable = true)\n",
            " |-- UniqueCarrier: string (nullable = true)\n",
            " |-- ActualElapsedTime: integer (nullable = true)\n",
            " |-- CRSElapsedTime: integer (nullable = true)\n",
            " |-- ArrDelay: integer (nullable = true)\n",
            " |-- DepDelay: integer (nullable = true)\n",
            " |-- Origin: string (nullable = true)\n",
            " |-- Dest: string (nullable = true)\n",
            " |-- Distance: integer (nullable = true)\n",
            " |-- Cancelled: string (nullable = true)\n",
            " |-- Diverted: string (nullable = true)\n",
            " |-- CarrierDelay: integer (nullable = true)\n",
            " |-- WeatherDelay: integer (nullable = true)\n",
            " |-- NASDelay: integer (nullable = true)\n",
            " |-- SecurityDelay: integer (nullable = true)\n",
            " |-- LateAircraftDelay: integer (nullable = true)\n",
            "\n"
          ]
        }
      ]
    },
    {
      "cell_type": "code",
      "source": [
        "#printing the dataframe shape\n",
        "print(\"Shape of Dataframe:\", (flights_usa.count(), len(flights_usa.columns)))"
      ],
      "metadata": {
        "colab": {
          "base_uri": "https://localhost:8080/"
        },
        "id": "LmkU_FLoYqA1",
        "outputId": "d856f867-b5cc-4afa-d088-306df7aedd0c"
      },
      "execution_count": null,
      "outputs": [
        {
          "output_type": "stream",
          "name": "stdout",
          "text": [
            "Shape of Dataframe: (106919, 19)\n"
          ]
        }
      ]
    },
    {
      "cell_type": "code",
      "source": [
        "#checking for missing values in every column\n",
        "from pyspark.sql.functions import isnan, isnull, when, count, col\n",
        "\n",
        "flights_usa.select([count(when(isnull(c), c)).alias(c) for c in flights_usa.columns]).show()"
      ],
      "metadata": {
        "id": "6yCfp7AX6PzK",
        "colab": {
          "base_uri": "https://localhost:8080/"
        },
        "outputId": "2131a1ab-6704-43a5-ba62-aa040829e5f2"
      },
      "execution_count": null,
      "outputs": [
        {
          "output_type": "stream",
          "name": "stdout",
          "text": [
            "+----+-----+----------+---------+-------------+-----------------+--------------+--------+--------+------+----+--------+---------+--------+------------+------------+--------+-------------+-----------------+\n",
            "|Year|Month|DayofMonth|DayOfWeek|UniqueCarrier|ActualElapsedTime|CRSElapsedTime|ArrDelay|DepDelay|Origin|Dest|Distance|Cancelled|Diverted|CarrierDelay|WeatherDelay|NASDelay|SecurityDelay|LateAircraftDelay|\n",
            "+----+-----+----------+---------+-------------+-----------------+--------------+--------+--------+------+----+--------+---------+--------+------------+------------+--------+-------------+-----------------+\n",
            "|   0|    0|         0|        0|            0|                0|             0|       0|       0|     0|   0|       0|        0|       0|           0|           0|       0|            0|                0|\n",
            "+----+-----+----------+---------+-------------+-----------------+--------------+--------+--------+------+----+--------+---------+--------+------------+------------+--------+-------------+-----------------+\n",
            "\n"
          ]
        }
      ]
    },
    {
      "cell_type": "code",
      "source": [
        "#statistical summary\n",
        "flights_usa.summary().show()"
      ],
      "metadata": {
        "colab": {
          "base_uri": "https://localhost:8080/"
        },
        "id": "F6wtFZDqLxNC",
        "outputId": "549e1714-cc46-469f-e436-b0b04cebebd2"
      },
      "execution_count": null,
      "outputs": [
        {
          "output_type": "stream",
          "name": "stdout",
          "text": [
            "+-------+--------------------+------------------+------------------+------------------+-------------+------------------+------------------+-----------------+------------------+------+------+-----------------+---------+--------+------------------+------------------+------------------+--------------------+------------------+\n",
            "|summary|                Year|             Month|        DayofMonth|         DayOfWeek|UniqueCarrier| ActualElapsedTime|    CRSElapsedTime|         ArrDelay|          DepDelay|Origin|  Dest|         Distance|Cancelled|Diverted|      CarrierDelay|      WeatherDelay|          NASDelay|       SecurityDelay| LateAircraftDelay|\n",
            "+-------+--------------------+------------------+------------------+------------------+-------------+------------------+------------------+-----------------+------------------+------+------+-----------------+---------+--------+------------------+------------------+------------------+--------------------+------------------+\n",
            "|  count|              106919|            106919|            106919|            106919|       106919|            106919|            106919|           106919|            106919|106919|106919|           106919|   106919|  106919|            106919|            106919|            106919|              106919|            106919|\n",
            "|   mean|              2008.0|  2.42706160738503|15.534021081379361|3.9156277181791825|         null|182.65775961241687|174.04955152966264|59.77172438949111|51.163516306736874|  null|  null|1089.498517569375|      0.0|     0.0|  15.7348272991704| 2.124112646021755|18.237852954105445|0.020538912634798304|23.654392577558713|\n",
            "| stddev|1.135422256986069...|1.1063339555999532| 9.063958996181217|2.0011311024700524|         null|  82.1210326051986| 77.90214713531809|58.75953941418564| 60.90166421049968|  null|  null|633.9097785632576|      0.0|     0.0|39.285686409882885|15.280332202212927| 31.82272749406851|  0.8874487053473796| 41.22714202685688|\n",
            "|    min|                2008|                 1|                 1|                 1|           AA|                27|                 1|               15|               -23|   ABQ|   ABQ|               68|        0|       0|                 0|                 0|                 0|                   0|                 0|\n",
            "|    25%|                2008|                 1|                 7|                 2|         null|               123|               120|               24|                13|  null|  null|              641|      0.0|     0.0|                 0|                 0|                 0|                   0|                 0|\n",
            "|    50%|                2008|                 2|                16|                 4|         null|               168|               158|               40|                35|  null|  null|              967|      0.0|     0.0|                 0|                 0|                 8|                   0|                 3|\n",
            "|    75%|                2008|                 3|                23|                 6|         null|               228|               215|               75|                70|  null|  null|             1440|      0.0|     0.0|                16|                 0|                22|                   0|                31|\n",
            "|    max|                2008|                 4|                31|                 7|           UA|               727|               560|             1525|              1521|   XNA|   XNA|             4243|        0|       0|              1312|              1148|              1357|                  83|              1254|\n",
            "+-------+--------------------+------------------+------------------+------------------+-------------+------------------+------------------+-----------------+------------------+------+------+-----------------+---------+--------+------------------+------------------+------------------+--------------------+------------------+\n",
            "\n"
          ]
        }
      ]
    },
    {
      "cell_type": "code",
      "source": [
        "flights_usa.show(5)"
      ],
      "metadata": {
        "colab": {
          "base_uri": "https://localhost:8080/"
        },
        "id": "A3NRABIGIo-g",
        "outputId": "107483b5-37bf-4467-b44e-52b89b37b596"
      },
      "execution_count": null,
      "outputs": [
        {
          "output_type": "stream",
          "name": "stdout",
          "text": [
            "+----+-----+----------+---------+-------------+-----------------+--------------+--------+--------+------+----+--------+---------+--------+------------+------------+--------+-------------+-----------------+\n",
            "|Year|Month|DayofMonth|DayOfWeek|UniqueCarrier|ActualElapsedTime|CRSElapsedTime|ArrDelay|DepDelay|Origin|Dest|Distance|Cancelled|Diverted|CarrierDelay|WeatherDelay|NASDelay|SecurityDelay|LateAircraftDelay|\n",
            "+----+-----+----------+---------+-------------+-----------------+--------------+--------+--------+------+----+--------+---------+--------+------------+------------+--------+-------------+-----------------+\n",
            "|2008|    1|         1|        2|           UA|              551|           552|      19|      20|   ORD| HNL|    4243|        0|       0|          19|           0|       0|            0|                0|\n",
            "|2008|    1|         4|        5|           UA|              571|           552|      22|       3|   ORD| HNL|    4243|        0|       0|           0|           0|      22|            0|                0|\n",
            "|2008|    1|         5|        6|           UA|              571|           552|      98|      79|   ORD| HNL|    4243|        0|       0|          79|           0|      19|            0|                0|\n",
            "|2008|    1|         6|        7|           UA|              556|           552|      32|      28|   ORD| HNL|    4243|        0|       0|          28|           0|       4|            0|                0|\n",
            "|2008|    1|         9|        3|           UA|              556|           556|      83|      83|   ORD| HNL|    4243|        0|       0|          83|           0|       0|            0|                0|\n",
            "+----+-----+----------+---------+-------------+-----------------+--------------+--------+--------+------+----+--------+---------+--------+------------+------------+--------+-------------+-----------------+\n",
            "only showing top 5 rows\n",
            "\n"
          ]
        }
      ]
    },
    {
      "cell_type": "markdown",
      "source": [
        "#Exploratory Analysis"
      ],
      "metadata": {
        "id": "YbCgx0-rckVv"
      }
    },
    {
      "cell_type": "code",
      "source": [
        "#converting pyspark dataframe to pandas dataframe for visualizations\n",
        "flights_usa_df = flights_usa.toPandas()"
      ],
      "metadata": {
        "id": "Usw4U7P9VpWU"
      },
      "execution_count": null,
      "outputs": []
    },
    {
      "cell_type": "code",
      "source": [
        "flights_usa_df.head(3)"
      ],
      "metadata": {
        "colab": {
          "base_uri": "https://localhost:8080/",
          "height": 207
        },
        "id": "y52bxXUgXD0q",
        "outputId": "daea8343-2661-4179-e342-0bd55d593307"
      },
      "execution_count": null,
      "outputs": [
        {
          "output_type": "execute_result",
          "data": {
            "text/plain": [
              "   Year  Month  DayofMonth  DayOfWeek UniqueCarrier  ActualElapsedTime  \\\n",
              "0  2008      1           1          2            UA                551   \n",
              "1  2008      1           4          5            UA                571   \n",
              "2  2008      1           5          6            UA                571   \n",
              "\n",
              "   CRSElapsedTime  ArrDelay  DepDelay Origin Dest  Distance Cancelled  \\\n",
              "0             552        19        20    ORD  HNL      4243         0   \n",
              "1             552        22         3    ORD  HNL      4243         0   \n",
              "2             552        98        79    ORD  HNL      4243         0   \n",
              "\n",
              "  Diverted  CarrierDelay  WeatherDelay  NASDelay  SecurityDelay  \\\n",
              "0        0            19             0         0              0   \n",
              "1        0             0             0        22              0   \n",
              "2        0            79             0        19              0   \n",
              "\n",
              "   LateAircraftDelay  \n",
              "0                  0  \n",
              "1                  0  \n",
              "2                  0  "
            ],
            "text/html": [
              "\n",
              "  <div id=\"df-3a7f0808-24f8-4a8c-935a-04ff307bcf6c\">\n",
              "    <div class=\"colab-df-container\">\n",
              "      <div>\n",
              "<style scoped>\n",
              "    .dataframe tbody tr th:only-of-type {\n",
              "        vertical-align: middle;\n",
              "    }\n",
              "\n",
              "    .dataframe tbody tr th {\n",
              "        vertical-align: top;\n",
              "    }\n",
              "\n",
              "    .dataframe thead th {\n",
              "        text-align: right;\n",
              "    }\n",
              "</style>\n",
              "<table border=\"1\" class=\"dataframe\">\n",
              "  <thead>\n",
              "    <tr style=\"text-align: right;\">\n",
              "      <th></th>\n",
              "      <th>Year</th>\n",
              "      <th>Month</th>\n",
              "      <th>DayofMonth</th>\n",
              "      <th>DayOfWeek</th>\n",
              "      <th>UniqueCarrier</th>\n",
              "      <th>ActualElapsedTime</th>\n",
              "      <th>CRSElapsedTime</th>\n",
              "      <th>ArrDelay</th>\n",
              "      <th>DepDelay</th>\n",
              "      <th>Origin</th>\n",
              "      <th>Dest</th>\n",
              "      <th>Distance</th>\n",
              "      <th>Cancelled</th>\n",
              "      <th>Diverted</th>\n",
              "      <th>CarrierDelay</th>\n",
              "      <th>WeatherDelay</th>\n",
              "      <th>NASDelay</th>\n",
              "      <th>SecurityDelay</th>\n",
              "      <th>LateAircraftDelay</th>\n",
              "    </tr>\n",
              "  </thead>\n",
              "  <tbody>\n",
              "    <tr>\n",
              "      <th>0</th>\n",
              "      <td>2008</td>\n",
              "      <td>1</td>\n",
              "      <td>1</td>\n",
              "      <td>2</td>\n",
              "      <td>UA</td>\n",
              "      <td>551</td>\n",
              "      <td>552</td>\n",
              "      <td>19</td>\n",
              "      <td>20</td>\n",
              "      <td>ORD</td>\n",
              "      <td>HNL</td>\n",
              "      <td>4243</td>\n",
              "      <td>0</td>\n",
              "      <td>0</td>\n",
              "      <td>19</td>\n",
              "      <td>0</td>\n",
              "      <td>0</td>\n",
              "      <td>0</td>\n",
              "      <td>0</td>\n",
              "    </tr>\n",
              "    <tr>\n",
              "      <th>1</th>\n",
              "      <td>2008</td>\n",
              "      <td>1</td>\n",
              "      <td>4</td>\n",
              "      <td>5</td>\n",
              "      <td>UA</td>\n",
              "      <td>571</td>\n",
              "      <td>552</td>\n",
              "      <td>22</td>\n",
              "      <td>3</td>\n",
              "      <td>ORD</td>\n",
              "      <td>HNL</td>\n",
              "      <td>4243</td>\n",
              "      <td>0</td>\n",
              "      <td>0</td>\n",
              "      <td>0</td>\n",
              "      <td>0</td>\n",
              "      <td>22</td>\n",
              "      <td>0</td>\n",
              "      <td>0</td>\n",
              "    </tr>\n",
              "    <tr>\n",
              "      <th>2</th>\n",
              "      <td>2008</td>\n",
              "      <td>1</td>\n",
              "      <td>5</td>\n",
              "      <td>6</td>\n",
              "      <td>UA</td>\n",
              "      <td>571</td>\n",
              "      <td>552</td>\n",
              "      <td>98</td>\n",
              "      <td>79</td>\n",
              "      <td>ORD</td>\n",
              "      <td>HNL</td>\n",
              "      <td>4243</td>\n",
              "      <td>0</td>\n",
              "      <td>0</td>\n",
              "      <td>79</td>\n",
              "      <td>0</td>\n",
              "      <td>19</td>\n",
              "      <td>0</td>\n",
              "      <td>0</td>\n",
              "    </tr>\n",
              "  </tbody>\n",
              "</table>\n",
              "</div>\n",
              "      <button class=\"colab-df-convert\" onclick=\"convertToInteractive('df-3a7f0808-24f8-4a8c-935a-04ff307bcf6c')\"\n",
              "              title=\"Convert this dataframe to an interactive table.\"\n",
              "              style=\"display:none;\">\n",
              "        \n",
              "  <svg xmlns=\"http://www.w3.org/2000/svg\" height=\"24px\"viewBox=\"0 0 24 24\"\n",
              "       width=\"24px\">\n",
              "    <path d=\"M0 0h24v24H0V0z\" fill=\"none\"/>\n",
              "    <path d=\"M18.56 5.44l.94 2.06.94-2.06 2.06-.94-2.06-.94-.94-2.06-.94 2.06-2.06.94zm-11 1L8.5 8.5l.94-2.06 2.06-.94-2.06-.94L8.5 2.5l-.94 2.06-2.06.94zm10 10l.94 2.06.94-2.06 2.06-.94-2.06-.94-.94-2.06-.94 2.06-2.06.94z\"/><path d=\"M17.41 7.96l-1.37-1.37c-.4-.4-.92-.59-1.43-.59-.52 0-1.04.2-1.43.59L10.3 9.45l-7.72 7.72c-.78.78-.78 2.05 0 2.83L4 21.41c.39.39.9.59 1.41.59.51 0 1.02-.2 1.41-.59l7.78-7.78 2.81-2.81c.8-.78.8-2.07 0-2.86zM5.41 20L4 18.59l7.72-7.72 1.47 1.35L5.41 20z\"/>\n",
              "  </svg>\n",
              "      </button>\n",
              "      \n",
              "  <style>\n",
              "    .colab-df-container {\n",
              "      display:flex;\n",
              "      flex-wrap:wrap;\n",
              "      gap: 12px;\n",
              "    }\n",
              "\n",
              "    .colab-df-convert {\n",
              "      background-color: #E8F0FE;\n",
              "      border: none;\n",
              "      border-radius: 50%;\n",
              "      cursor: pointer;\n",
              "      display: none;\n",
              "      fill: #1967D2;\n",
              "      height: 32px;\n",
              "      padding: 0 0 0 0;\n",
              "      width: 32px;\n",
              "    }\n",
              "\n",
              "    .colab-df-convert:hover {\n",
              "      background-color: #E2EBFA;\n",
              "      box-shadow: 0px 1px 2px rgba(60, 64, 67, 0.3), 0px 1px 3px 1px rgba(60, 64, 67, 0.15);\n",
              "      fill: #174EA6;\n",
              "    }\n",
              "\n",
              "    [theme=dark] .colab-df-convert {\n",
              "      background-color: #3B4455;\n",
              "      fill: #D2E3FC;\n",
              "    }\n",
              "\n",
              "    [theme=dark] .colab-df-convert:hover {\n",
              "      background-color: #434B5C;\n",
              "      box-shadow: 0px 1px 3px 1px rgba(0, 0, 0, 0.15);\n",
              "      filter: drop-shadow(0px 1px 2px rgba(0, 0, 0, 0.3));\n",
              "      fill: #FFFFFF;\n",
              "    }\n",
              "  </style>\n",
              "\n",
              "      <script>\n",
              "        const buttonEl =\n",
              "          document.querySelector('#df-3a7f0808-24f8-4a8c-935a-04ff307bcf6c button.colab-df-convert');\n",
              "        buttonEl.style.display =\n",
              "          google.colab.kernel.accessAllowed ? 'block' : 'none';\n",
              "\n",
              "        async function convertToInteractive(key) {\n",
              "          const element = document.querySelector('#df-3a7f0808-24f8-4a8c-935a-04ff307bcf6c');\n",
              "          const dataTable =\n",
              "            await google.colab.kernel.invokeFunction('convertToInteractive',\n",
              "                                                     [key], {});\n",
              "          if (!dataTable) return;\n",
              "\n",
              "          const docLinkHtml = 'Like what you see? Visit the ' +\n",
              "            '<a target=\"_blank\" href=https://colab.research.google.com/notebooks/data_table.ipynb>data table notebook</a>'\n",
              "            + ' to learn more about interactive tables.';\n",
              "          element.innerHTML = '';\n",
              "          dataTable['output_type'] = 'display_data';\n",
              "          await google.colab.output.renderOutput(dataTable, element);\n",
              "          const docLink = document.createElement('div');\n",
              "          docLink.innerHTML = docLinkHtml;\n",
              "          element.appendChild(docLink);\n",
              "        }\n",
              "      </script>\n",
              "    </div>\n",
              "  </div>\n",
              "  "
            ]
          },
          "metadata": {},
          "execution_count": 23
        }
      ]
    },
    {
      "cell_type": "code",
      "source": [
        "#correlation matrix\n",
        "import seaborn as sns\n",
        "plt.figure(figsize=(16,6))\n",
        "sns.heatmap(flights_usa_df.corr(), annot=True).set_title('Correlation Matrix Heatmap', fontdict={'fontsize':12}, pad=12)"
      ],
      "metadata": {
        "colab": {
          "base_uri": "https://localhost:8080/",
          "height": 499
        },
        "id": "tIP7SRIhVx4B",
        "outputId": "e8dbce77-14b7-44f2-c349-8a802cf00394"
      },
      "execution_count": null,
      "outputs": [
        {
          "output_type": "execute_result",
          "data": {
            "text/plain": [
              "Text(0.5, 1.0, 'Correlation Matrix Heatmap')"
            ]
          },
          "metadata": {},
          "execution_count": 24
        },
        {
          "output_type": "display_data",
          "data": {
            "text/plain": [
              "<Figure size 1152x432 with 2 Axes>"
            ],
            "image/png": "[encoded data removed]"
          },
          "metadata": {
            "needs_background": "light"
          }
        }
      ]
    },
    {
      "cell_type": "code",
      "source": [
        "import matplotlib.pyplot as plt\n",
        "sns.lineplot(x = flights_usa_df[\"Month\"], y = flights_usa_df[\"DepDelay\"], hue = flights_usa_df[\"UniqueCarrier\"])\n",
        "plt.title(\"Departure Delay Comparative Analysis\")\n",
        "plt.xticks([1,2,3,4])\n",
        "plt.xlabel(\"Month\")\n",
        "plt.ylabel(\"Departure Delay in minutes\")"
      ],
      "metadata": {
        "colab": {
          "base_uri": "https://localhost:8080/",
          "height": 313
        },
        "id": "opCGWCFYZS8z",
        "outputId": "d4d77fca-5da2-490c-8fbe-b931482c1c34"
      },
      "execution_count": null,
      "outputs": [
        {
          "output_type": "execute_result",
          "data": {
            "text/plain": [
              "Text(0, 0.5, 'Departure Delay in minutes')"
            ]
          },
          "metadata": {},
          "execution_count": 25
        },
        {
          "output_type": "display_data",
          "data": {
            "text/plain": [
              "<Figure size 432x288 with 1 Axes>"
            ],
            "image/png": "[encoded data removed]"
          },
          "metadata": {
            "needs_background": "light"
          }
        }
      ]
    },
    {
      "cell_type": "code",
      "source": [
        "import matplotlib.pyplot as plt\n",
        "sns.lineplot(x = flights_usa_df[\"Month\"], y = flights_usa_df[\"ArrDelay\"], hue = flights_usa_df[\"UniqueCarrier\"])\n",
        "plt.title(\"Arrival Delay Comparative Analysis\")\n",
        "plt.xticks([1,2,3,4])\n",
        "plt.xlabel(\"Month\")\n",
        "plt.ylabel(\"Arrival Delay in minutes\")"
      ],
      "metadata": {
        "colab": {
          "base_uri": "https://localhost:8080/",
          "height": 313
        },
        "id": "oaqBpd1ceixG",
        "outputId": "3fb0fb44-f1d0-400f-ac04-62da2acceda2"
      },
      "execution_count": null,
      "outputs": [
        {
          "output_type": "execute_result",
          "data": {
            "text/plain": [
              "Text(0, 0.5, 'Arrival Delay in minutes')"
            ]
          },
          "metadata": {},
          "execution_count": 26
        },
        {
          "output_type": "display_data",
          "data": {
            "text/plain": [
              "<Figure size 432x288 with 1 Axes>"
            ],
            "image/png": "[encoded data removed]"
          },
          "metadata": {
            "needs_background": "light"
          }
        }
      ]
    },
    {
      "cell_type": "code",
      "source": [
        "import matplotlib.pyplot as plt\n",
        "sns.scatterplot(x = flights_usa_df[\"LateAircraftDelay\"], y = flights_usa_df[\"DepDelay\"], hue = flights_usa_df[\"UniqueCarrier\"])\n",
        "plt.title(\"Departure Delay Comparative Analysis\")\n",
        "plt.ylabel(\"Departure Delay in minutes\")"
      ],
      "metadata": {
        "colab": {
          "base_uri": "https://localhost:8080/",
          "height": 313
        },
        "id": "c1pQxpx3fjhs",
        "outputId": "89562a4d-d0d2-4729-a57b-b189c133db2e"
      },
      "execution_count": null,
      "outputs": [
        {
          "output_type": "execute_result",
          "data": {
            "text/plain": [
              "Text(0, 0.5, 'Departure Delay in minutes')"
            ]
          },
          "metadata": {},
          "execution_count": 27
        },
        {
          "output_type": "display_data",
          "data": {
            "text/plain": [
              "<Figure size 432x288 with 1 Axes>"
            ],
            "image/png": "[encoded data removed]"
          },
          "metadata": {
            "needs_background": "light"
          }
        }
      ]
    },
    {
      "cell_type": "code",
      "source": [
        "import matplotlib.pyplot as plt\n",
        "sns.scatterplot(x = flights_usa_df[\"LateAircraftDelay\"], y = flights_usa_df[\"ArrDelay\"], hue = flights_usa_df[\"UniqueCarrier\"])\n",
        "plt.title(\"Arrival Delay Comparative Analysis\")\n",
        "plt.ylabel(\"Arrival Delay in minutes\")"
      ],
      "metadata": {
        "colab": {
          "base_uri": "https://localhost:8080/",
          "height": 313
        },
        "id": "qTxDYGZKgKmO",
        "outputId": "38d7cf63-bb8c-4beb-eb96-e04a1ae2e4d2"
      },
      "execution_count": null,
      "outputs": [
        {
          "output_type": "execute_result",
          "data": {
            "text/plain": [
              "Text(0, 0.5, 'Arrival Delay in minutes')"
            ]
          },
          "metadata": {},
          "execution_count": 28
        },
        {
          "output_type": "display_data",
          "data": {
            "text/plain": [
              "<Figure size 432x288 with 1 Axes>"
            ],
            "image/png": "[encoded data removed]"
          },
          "metadata": {
            "needs_background": "light"
          }
        }
      ]
    },
    {
      "cell_type": "markdown",
      "source": [
        "#Code for Prediction\n"
      ],
      "metadata": {
        "id": "8yF8m7PuKNzb"
      }
    },
    {
      "cell_type": "code",
      "source": [
        "enable_grid_search = False"
      ],
      "metadata": {
        "id": "f8OC21tzhXgy"
      },
      "execution_count": null,
      "outputs": []
    },
    {
      "cell_type": "markdown",
      "source": [
        "#Linear Regression for ArrDelay:"
      ],
      "metadata": {
        "id": "yi3klga1OJLQ"
      }
    },
    {
      "cell_type": "code",
      "source": [
        "#splitting the 'medical_df' dataframe into train set and test set\n",
        "\n",
        "flights_usa = flights_usa.withColumn('Cancelled', flights_usa.Cancelled.cast('int'))\n",
        "flights_usa = flights_usa.withColumn('Diverted', flights_usa.Diverted.cast('int'))\n",
        "\n",
        "train, test = flights_usa.randomSplit([0.8, 0.2], seed=10)"
      ],
      "metadata": {
        "id": "ht6rKYqAKWR7"
      },
      "execution_count": null,
      "outputs": []
    },
    {
      "cell_type": "code",
      "source": [
        "#Linear Regression Model Pipeline:\n",
        "from pyspark.ml.feature import StringIndexer\n",
        "from pyspark.ml.regression import LinearRegression\n",
        "from pyspark.ml.feature import VectorAssembler\n",
        "from pyspark.ml.linalg import Vectors\n",
        "from pyspark.ml import Pipeline\n",
        "\n",
        "#define stage 1: feature engineering pipeline\n",
        "#String indexer for UA AA uniqueCarrier\n",
        "\n",
        "UniqueCarrier = StringIndexer(inputCol = \"UniqueCarrier\", outputCol = \"UniqueCarrier_encoded\")\n",
        "\n",
        "#Create pipeline and pass all stages\n",
        "\n",
        "fe_pipe = Pipeline(stages = [UniqueCarrier])\n",
        "\n",
        "#define stage 2: create a vector of all the features required to train the linear regression model \n",
        "vec_assemble = VectorAssembler(inputCols = ['ActualElapsedTime', 'CRSElapsedTime', 'UniqueCarrier_encoded', 'Distance', 'Cancelled', 'Diverted',\n",
        "                                'CarrierDelay','NASDelay','SecurityDelay','LateAircraftDelay'], \n",
        "                               outputCol = 'va_features')\n",
        "\n",
        "#define stage 3: scaling the vectors\n",
        "std_scalar = feature.StandardScaler(withMean = True, inputCol = 'va_features', outputCol = 'scaled_features') \n",
        "\n",
        "#define stage 4: re-creating a vector of all the scaled features required to train the linear regression model \n",
        "vec_assembler_2 = feature.VectorAssembler(inputCols = ['scaled_features'], outputCol = 'features')\n",
        "\n",
        "#define stage 5: linear regression model                          \n",
        "linear_reg = LinearRegression(featuresCol = 'features', labelCol = 'ArrDelay')\n",
        "\n",
        "#setup the pipeline\n",
        "lr_pipe = Pipeline(stages = [fe_pipe, vec_assemble, std_scalar, vec_assembler_2, linear_reg])"
      ],
      "metadata": {
        "id": "_qCedSk6KQo5"
      },
      "execution_count": null,
      "outputs": []
    },
    {
      "cell_type": "code",
      "source": [
        "#fitting the linear regression pipe to train data and testing it using test data\n",
        "lr_model = lr_pipe.fit(train)\n",
        "lr_flights_arr_df = lr_model.transform(test)"
      ],
      "metadata": {
        "id": "o5F_6245LURR"
      },
      "execution_count": null,
      "outputs": []
    },
    {
      "cell_type": "code",
      "source": [
        "#evaluating the model performance\n",
        "from pyspark.ml.evaluation import RegressionEvaluator\n",
        "\n",
        "r2_lr_eval = RegressionEvaluator(labelCol = 'ArrDelay', predictionCol = 'prediction', metricName = 'r2')\n",
        "r2_lr_eval.evaluate(lr_model.transform(test))"
      ],
      "metadata": {
        "colab": {
          "base_uri": "https://localhost:8080/"
        },
        "id": "Z1zrj-eCLXpK",
        "outputId": "9c303a5e-5f73-4f3f-b26d-ec43e726e00c"
      },
      "execution_count": null,
      "outputs": [
        {
          "output_type": "execute_result",
          "data": {
            "text/plain": [
              "0.9268067693263794"
            ]
          },
          "metadata": {},
          "execution_count": 33
        }
      ]
    },
    {
      "cell_type": "markdown",
      "source": [
        "#Linear Regression for DepDelay"
      ],
      "metadata": {
        "id": "q7MUbA2oOQ7B"
      }
    },
    {
      "cell_type": "code",
      "source": [
        "#define stage 5: linear regression model          \n",
        "vec_assemble = VectorAssembler(inputCols = ['ActualElapsedTime', 'CRSElapsedTime', 'UniqueCarrier_encoded', 'Distance', 'Cancelled', 'Diverted',\n",
        "                                'CarrierDelay','NASDelay','SecurityDelay','LateAircraftDelay'], \n",
        "                               outputCol = 'va_features')\n",
        "\n",
        "#define stage 3: scaling the vectors\n",
        "std_scalar = feature.StandardScaler(withMean = True, inputCol = 'va_features', outputCol = 'scaled_features') \n",
        "\n",
        "#define stage 4: re-creating a vector of all the scaled features required to train the linear regression model \n",
        "vec_assembler_2 = feature.VectorAssembler(inputCols = ['scaled_features'], outputCol = 'features')\n",
        "\n",
        "linear_reg_2 = LinearRegression(featuresCol = 'features', labelCol = 'DepDelay')\n",
        "\n",
        "#setup the pipeline\n",
        "lr_pipe_2 = Pipeline(stages = [fe_pipe, vec_assemble, std_scalar, vec_assembler_2, linear_reg_2])"
      ],
      "metadata": {
        "id": "yJhebFMJOaRt"
      },
      "execution_count": null,
      "outputs": []
    },
    {
      "cell_type": "code",
      "source": [
        "#fitting the linear regression pipe to train data and testing it using test data\n",
        "lr_model_2 = lr_pipe_2.fit(train)\n",
        "lr_flights_dep_df = lr_model_2.transform(test)"
      ],
      "metadata": {
        "id": "DsxCvHG_Ob1c"
      },
      "execution_count": null,
      "outputs": []
    },
    {
      "cell_type": "code",
      "source": [
        "#evaluating the model performance\n",
        "r2_lr_eval_2 = RegressionEvaluator(labelCol = 'DepDelay', predictionCol = 'prediction', metricName = 'r2')\n",
        "r2_lr_eval_2.evaluate(lr_model_2.transform(test))"
      ],
      "metadata": {
        "id": "u6N08VNbObo0",
        "colab": {
          "base_uri": "https://localhost:8080/"
        },
        "outputId": "046a5c02-9786-43d8-87d3-27614bfc0afb"
      },
      "execution_count": null,
      "outputs": [
        {
          "output_type": "execute_result",
          "data": {
            "text/plain": [
              "0.9314517846211676"
            ]
          },
          "metadata": {},
          "execution_count": 36
        }
      ]
    },
    {
      "cell_type": "code",
      "source": [
        "coefficient_values_arr = lr_model.stages[-1].coefficients\n",
        "coefficient_values_dep = lr_model_2.stages[-1].coefficients"
      ],
      "metadata": {
        "id": "kl-ypbqLcg3L"
      },
      "execution_count": null,
      "outputs": []
    },
    {
      "cell_type": "code",
      "source": [
        "important_features_arr = pd.DataFrame({'Features': ['ActualElapsedTime', 'CRSElapsedTime', 'UniqueCarrier_encoded', 'Distance', 'Cancelled', 'Diverted',\n",
        "                                'CarrierDelay','NASDelay','SecurityDelay','LateAircraftDelay'], \n",
        "                                'Value': coefficient_values_arr}).sort_values(by=['Value'], ascending=False)"
      ],
      "metadata": {
        "id": "mcmB7liLc74m"
      },
      "execution_count": null,
      "outputs": []
    },
    {
      "cell_type": "code",
      "source": [
        "important_features_arr"
      ],
      "metadata": {
        "colab": {
          "base_uri": "https://localhost:8080/",
          "height": 363
        },
        "id": "yv5CEZoverRN",
        "outputId": "2bd5a9e6-9502-4e35-98c9-ae8820203ecd"
      },
      "execution_count": null,
      "outputs": [
        {
          "output_type": "execute_result",
          "data": {
            "text/plain": [
              "                Features      Value\n",
              "9      LateAircraftDelay  41.425562\n",
              "6           CarrierDelay  38.822466\n",
              "7               NASDelay  31.082308\n",
              "0      ActualElapsedTime   3.218610\n",
              "8          SecurityDelay   0.820379\n",
              "4              Cancelled   0.000000\n",
              "5               Diverted   0.000000\n",
              "2  UniqueCarrier_encoded  -0.334275\n",
              "3               Distance  -0.777301\n",
              "1         CRSElapsedTime  -2.429261"
            ],
            "text/html": [
              "\n",
              "  <div id=\"df-c5b389b2-1fec-4706-8560-abc24c421722\">\n",
              "    <div class=\"colab-df-container\">\n",
              "      <div>\n",
              "<style scoped>\n",
              "    .dataframe tbody tr th:only-of-type {\n",
              "        vertical-align: middle;\n",
              "    }\n",
              "\n",
              "    .dataframe tbody tr th {\n",
              "        vertical-align: top;\n",
              "    }\n",
              "\n",
              "    .dataframe thead th {\n",
              "        text-align: right;\n",
              "    }\n",
              "</style>\n",
              "<table border=\"1\" class=\"dataframe\">\n",
              "  <thead>\n",
              "    <tr style=\"text-align: right;\">\n",
              "      <th></th>\n",
              "      <th>Features</th>\n",
              "      <th>Value</th>\n",
              "    </tr>\n",
              "  </thead>\n",
              "  <tbody>\n",
              "    <tr>\n",
              "      <th>9</th>\n",
              "      <td>LateAircraftDelay</td>\n",
              "      <td>41.425562</td>\n",
              "    </tr>\n",
              "    <tr>\n",
              "      <th>6</th>\n",
              "      <td>CarrierDelay</td>\n",
              "      <td>38.822466</td>\n",
              "    </tr>\n",
              "    <tr>\n",
              "      <th>7</th>\n",
              "      <td>NASDelay</td>\n",
              "      <td>31.082308</td>\n",
              "    </tr>\n",
              "    <tr>\n",
              "      <th>0</th>\n",
              "      <td>ActualElapsedTime</td>\n",
              "      <td>3.218610</td>\n",
              "    </tr>\n",
              "    <tr>\n",
              "      <th>8</th>\n",
              "      <td>SecurityDelay</td>\n",
              "      <td>0.820379</td>\n",
              "    </tr>\n",
              "    <tr>\n",
              "      <th>4</th>\n",
              "      <td>Cancelled</td>\n",
              "      <td>0.000000</td>\n",
              "    </tr>\n",
              "    <tr>\n",
              "      <th>5</th>\n",
              "      <td>Diverted</td>\n",
              "      <td>0.000000</td>\n",
              "    </tr>\n",
              "    <tr>\n",
              "      <th>2</th>\n",
              "      <td>UniqueCarrier_encoded</td>\n",
              "      <td>-0.334275</td>\n",
              "    </tr>\n",
              "    <tr>\n",
              "      <th>3</th>\n",
              "      <td>Distance</td>\n",
              "      <td>-0.777301</td>\n",
              "    </tr>\n",
              "    <tr>\n",
              "      <th>1</th>\n",
              "      <td>CRSElapsedTime</td>\n",
              "      <td>-2.429261</td>\n",
              "    </tr>\n",
              "  </tbody>\n",
              "</table>\n",
              "</div>\n",
              "      <button class=\"colab-df-convert\" onclick=\"convertToInteractive('df-c5b389b2-1fec-4706-8560-abc24c421722')\"\n",
              "              title=\"Convert this dataframe to an interactive table.\"\n",
              "              style=\"display:none;\">\n",
              "        \n",
              "  <svg xmlns=\"http://www.w3.org/2000/svg\" height=\"24px\"viewBox=\"0 0 24 24\"\n",
              "       width=\"24px\">\n",
              "    <path d=\"M0 0h24v24H0V0z\" fill=\"none\"/>\n",
              "    <path d=\"M18.56 5.44l.94 2.06.94-2.06 2.06-.94-2.06-.94-.94-2.06-.94 2.06-2.06.94zm-11 1L8.5 8.5l.94-2.06 2.06-.94-2.06-.94L8.5 2.5l-.94 2.06-2.06.94zm10 10l.94 2.06.94-2.06 2.06-.94-2.06-.94-.94-2.06-.94 2.06-2.06.94z\"/><path d=\"M17.41 7.96l-1.37-1.37c-.4-.4-.92-.59-1.43-.59-.52 0-1.04.2-1.43.59L10.3 9.45l-7.72 7.72c-.78.78-.78 2.05 0 2.83L4 21.41c.39.39.9.59 1.41.59.51 0 1.02-.2 1.41-.59l7.78-7.78 2.81-2.81c.8-.78.8-2.07 0-2.86zM5.41 20L4 18.59l7.72-7.72 1.47 1.35L5.41 20z\"/>\n",
              "  </svg>\n",
              "      </button>\n",
              "      \n",
              "  <style>\n",
              "    .colab-df-container {\n",
              "      display:flex;\n",
              "      flex-wrap:wrap;\n",
              "      gap: 12px;\n",
              "    }\n",
              "\n",
              "    .colab-df-convert {\n",
              "      background-color: #E8F0FE;\n",
              "      border: none;\n",
              "      border-radius: 50%;\n",
              "      cursor: pointer;\n",
              "      display: none;\n",
              "      fill: #1967D2;\n",
              "      height: 32px;\n",
              "      padding: 0 0 0 0;\n",
              "      width: 32px;\n",
              "    }\n",
              "\n",
              "    .colab-df-convert:hover {\n",
              "      background-color: #E2EBFA;\n",
              "      box-shadow: 0px 1px 2px rgba(60, 64, 67, 0.3), 0px 1px 3px 1px rgba(60, 64, 67, 0.15);\n",
              "      fill: #174EA6;\n",
              "    }\n",
              "\n",
              "    [theme=dark] .colab-df-convert {\n",
              "      background-color: #3B4455;\n",
              "      fill: #D2E3FC;\n",
              "    }\n",
              "\n",
              "    [theme=dark] .colab-df-convert:hover {\n",
              "      background-color: #434B5C;\n",
              "      box-shadow: 0px 1px 3px 1px rgba(0, 0, 0, 0.15);\n",
              "      filter: drop-shadow(0px 1px 2px rgba(0, 0, 0, 0.3));\n",
              "      fill: #FFFFFF;\n",
              "    }\n",
              "  </style>\n",
              "\n",
              "      <script>\n",
              "        const buttonEl =\n",
              "          document.querySelector('#df-c5b389b2-1fec-4706-8560-abc24c421722 button.colab-df-convert');\n",
              "        buttonEl.style.display =\n",
              "          google.colab.kernel.accessAllowed ? 'block' : 'none';\n",
              "\n",
              "        async function convertToInteractive(key) {\n",
              "          const element = document.querySelector('#df-c5b389b2-1fec-4706-8560-abc24c421722');\n",
              "          const dataTable =\n",
              "            await google.colab.kernel.invokeFunction('convertToInteractive',\n",
              "                                                     [key], {});\n",
              "          if (!dataTable) return;\n",
              "\n",
              "          const docLinkHtml = 'Like what you see? Visit the ' +\n",
              "            '<a target=\"_blank\" href=https://colab.research.google.com/notebooks/data_table.ipynb>data table notebook</a>'\n",
              "            + ' to learn more about interactive tables.';\n",
              "          element.innerHTML = '';\n",
              "          dataTable['output_type'] = 'display_data';\n",
              "          await google.colab.output.renderOutput(dataTable, element);\n",
              "          const docLink = document.createElement('div');\n",
              "          docLink.innerHTML = docLinkHtml;\n",
              "          element.appendChild(docLink);\n",
              "        }\n",
              "      </script>\n",
              "    </div>\n",
              "  </div>\n",
              "  "
            ]
          },
          "metadata": {},
          "execution_count": 39
        }
      ]
    },
    {
      "cell_type": "code",
      "source": [
        "important_features_dep = pd.DataFrame({'Features': ['ActualElapsedTime', 'CRSElapsedTime', 'UniqueCarrier_encoded', 'Distance', 'Cancelled', 'Diverted',\n",
        "                                'CarrierDelay','NASDelay','SecurityDelay','LateAircraftDelay'], \n",
        "                                'Value': coefficient_values_dep}).sort_values(by=['Value'], ascending=False)"
      ],
      "metadata": {
        "id": "5fHWDxGoe3fD"
      },
      "execution_count": null,
      "outputs": []
    },
    {
      "cell_type": "code",
      "source": [
        "important_features_dep"
      ],
      "metadata": {
        "colab": {
          "base_uri": "https://localhost:8080/",
          "height": 363
        },
        "id": "A-25tN3ufBKm",
        "outputId": "9e2aa2f8-2374-4c42-f35d-54adcce1fb59"
      },
      "execution_count": null,
      "outputs": [
        {
          "output_type": "execute_result",
          "data": {
            "text/plain": [
              "                Features      Value\n",
              "1         CRSElapsedTime  75.485779\n",
              "9      LateAircraftDelay  41.425562\n",
              "6           CarrierDelay  38.822466\n",
              "7               NASDelay  31.082309\n",
              "8          SecurityDelay   0.820378\n",
              "4              Cancelled   0.000000\n",
              "5               Diverted   0.000000\n",
              "2  UniqueCarrier_encoded  -0.334276\n",
              "3               Distance  -0.777301\n",
              "0      ActualElapsedTime -78.925339"
            ],
            "text/html": [
              "\n",
              "  <div id=\"df-3a8d485f-4835-41eb-9fb3-22b8df75c437\">\n",
              "    <div class=\"colab-df-container\">\n",
              "      <div>\n",
              "<style scoped>\n",
              "    .dataframe tbody tr th:only-of-type {\n",
              "        vertical-align: middle;\n",
              "    }\n",
              "\n",
              "    .dataframe tbody tr th {\n",
              "        vertical-align: top;\n",
              "    }\n",
              "\n",
              "    .dataframe thead th {\n",
              "        text-align: right;\n",
              "    }\n",
              "</style>\n",
              "<table border=\"1\" class=\"dataframe\">\n",
              "  <thead>\n",
              "    <tr style=\"text-align: right;\">\n",
              "      <th></th>\n",
              "      <th>Features</th>\n",
              "      <th>Value</th>\n",
              "    </tr>\n",
              "  </thead>\n",
              "  <tbody>\n",
              "    <tr>\n",
              "      <th>1</th>\n",
              "      <td>CRSElapsedTime</td>\n",
              "      <td>75.485779</td>\n",
              "    </tr>\n",
              "    <tr>\n",
              "      <th>9</th>\n",
              "      <td>LateAircraftDelay</td>\n",
              "      <td>41.425562</td>\n",
              "    </tr>\n",
              "    <tr>\n",
              "      <th>6</th>\n",
              "      <td>CarrierDelay</td>\n",
              "      <td>38.822466</td>\n",
              "    </tr>\n",
              "    <tr>\n",
              "      <th>7</th>\n",
              "      <td>NASDelay</td>\n",
              "      <td>31.082309</td>\n",
              "    </tr>\n",
              "    <tr>\n",
              "      <th>8</th>\n",
              "      <td>SecurityDelay</td>\n",
              "      <td>0.820378</td>\n",
              "    </tr>\n",
              "    <tr>\n",
              "      <th>4</th>\n",
              "      <td>Cancelled</td>\n",
              "      <td>0.000000</td>\n",
              "    </tr>\n",
              "    <tr>\n",
              "      <th>5</th>\n",
              "      <td>Diverted</td>\n",
              "      <td>0.000000</td>\n",
              "    </tr>\n",
              "    <tr>\n",
              "      <th>2</th>\n",
              "      <td>UniqueCarrier_encoded</td>\n",
              "      <td>-0.334276</td>\n",
              "    </tr>\n",
              "    <tr>\n",
              "      <th>3</th>\n",
              "      <td>Distance</td>\n",
              "      <td>-0.777301</td>\n",
              "    </tr>\n",
              "    <tr>\n",
              "      <th>0</th>\n",
              "      <td>ActualElapsedTime</td>\n",
              "      <td>-78.925339</td>\n",
              "    </tr>\n",
              "  </tbody>\n",
              "</table>\n",
              "</div>\n",
              "      <button class=\"colab-df-convert\" onclick=\"convertToInteractive('df-3a8d485f-4835-41eb-9fb3-22b8df75c437')\"\n",
              "              title=\"Convert this dataframe to an interactive table.\"\n",
              "              style=\"display:none;\">\n",
              "        \n",
              "  <svg xmlns=\"http://www.w3.org/2000/svg\" height=\"24px\"viewBox=\"0 0 24 24\"\n",
              "       width=\"24px\">\n",
              "    <path d=\"M0 0h24v24H0V0z\" fill=\"none\"/>\n",
              "    <path d=\"M18.56 5.44l.94 2.06.94-2.06 2.06-.94-2.06-.94-.94-2.06-.94 2.06-2.06.94zm-11 1L8.5 8.5l.94-2.06 2.06-.94-2.06-.94L8.5 2.5l-.94 2.06-2.06.94zm10 10l.94 2.06.94-2.06 2.06-.94-2.06-.94-.94-2.06-.94 2.06-2.06.94z\"/><path d=\"M17.41 7.96l-1.37-1.37c-.4-.4-.92-.59-1.43-.59-.52 0-1.04.2-1.43.59L10.3 9.45l-7.72 7.72c-.78.78-.78 2.05 0 2.83L4 21.41c.39.39.9.59 1.41.59.51 0 1.02-.2 1.41-.59l7.78-7.78 2.81-2.81c.8-.78.8-2.07 0-2.86zM5.41 20L4 18.59l7.72-7.72 1.47 1.35L5.41 20z\"/>\n",
              "  </svg>\n",
              "      </button>\n",
              "      \n",
              "  <style>\n",
              "    .colab-df-container {\n",
              "      display:flex;\n",
              "      flex-wrap:wrap;\n",
              "      gap: 12px;\n",
              "    }\n",
              "\n",
              "    .colab-df-convert {\n",
              "      background-color: #E8F0FE;\n",
              "      border: none;\n",
              "      border-radius: 50%;\n",
              "      cursor: pointer;\n",
              "      display: none;\n",
              "      fill: #1967D2;\n",
              "      height: 32px;\n",
              "      padding: 0 0 0 0;\n",
              "      width: 32px;\n",
              "    }\n",
              "\n",
              "    .colab-df-convert:hover {\n",
              "      background-color: #E2EBFA;\n",
              "      box-shadow: 0px 1px 2px rgba(60, 64, 67, 0.3), 0px 1px 3px 1px rgba(60, 64, 67, 0.15);\n",
              "      fill: #174EA6;\n",
              "    }\n",
              "\n",
              "    [theme=dark] .colab-df-convert {\n",
              "      background-color: #3B4455;\n",
              "      fill: #D2E3FC;\n",
              "    }\n",
              "\n",
              "    [theme=dark] .colab-df-convert:hover {\n",
              "      background-color: #434B5C;\n",
              "      box-shadow: 0px 1px 3px 1px rgba(0, 0, 0, 0.15);\n",
              "      filter: drop-shadow(0px 1px 2px rgba(0, 0, 0, 0.3));\n",
              "      fill: #FFFFFF;\n",
              "    }\n",
              "  </style>\n",
              "\n",
              "      <script>\n",
              "        const buttonEl =\n",
              "          document.querySelector('#df-3a8d485f-4835-41eb-9fb3-22b8df75c437 button.colab-df-convert');\n",
              "        buttonEl.style.display =\n",
              "          google.colab.kernel.accessAllowed ? 'block' : 'none';\n",
              "\n",
              "        async function convertToInteractive(key) {\n",
              "          const element = document.querySelector('#df-3a8d485f-4835-41eb-9fb3-22b8df75c437');\n",
              "          const dataTable =\n",
              "            await google.colab.kernel.invokeFunction('convertToInteractive',\n",
              "                                                     [key], {});\n",
              "          if (!dataTable) return;\n",
              "\n",
              "          const docLinkHtml = 'Like what you see? Visit the ' +\n",
              "            '<a target=\"_blank\" href=https://colab.research.google.com/notebooks/data_table.ipynb>data table notebook</a>'\n",
              "            + ' to learn more about interactive tables.';\n",
              "          element.innerHTML = '';\n",
              "          dataTable['output_type'] = 'display_data';\n",
              "          await google.colab.output.renderOutput(dataTable, element);\n",
              "          const docLink = document.createElement('div');\n",
              "          docLink.innerHTML = docLinkHtml;\n",
              "          element.appendChild(docLink);\n",
              "        }\n",
              "      </script>\n",
              "    </div>\n",
              "  </div>\n",
              "  "
            ]
          },
          "metadata": {},
          "execution_count": 41
        }
      ]
    },
    {
      "cell_type": "markdown",
      "source": [
        "#Random Forest for ArrDelay"
      ],
      "metadata": {
        "id": "ugcEB-0kUx6X"
      }
    },
    {
      "cell_type": "code",
      "source": [
        "#Random Forest Regressor Model Pipeline:\n",
        "from pyspark.ml.regression import RandomForestRegressor\n",
        "\n",
        "#define stage 5: random forest regression model                          \n",
        "rf = RandomForestRegressor(featuresCol = 'features', labelCol = 'ArrDelay')\n",
        "rf_pipe = Pipeline(stages = [fe_pipe, vec_assemble, std_scalar, vec_assembler_2, rf])"
      ],
      "metadata": {
        "id": "KXbAr87lU4jr"
      },
      "execution_count": null,
      "outputs": []
    },
    {
      "cell_type": "code",
      "source": [
        "#fitting the random forest regression pipe to train data and testing it using test data\n",
        "rf_model = rf_pipe.fit(train)\n",
        "rf_flights_arr_df = rf_model.transform(test)"
      ],
      "metadata": {
        "id": "b9p2phbMeuJJ"
      },
      "execution_count": null,
      "outputs": []
    },
    {
      "cell_type": "code",
      "source": [
        "#evaluating the model performance\n",
        "r2_rf_eval = RegressionEvaluator(labelCol = 'ArrDelay', predictionCol = 'prediction', metricName = 'r2')\n",
        "r2_rf_eval.evaluate(rf_model.transform(test))"
      ],
      "metadata": {
        "id": "pNaSOPlPbnXU",
        "colab": {
          "base_uri": "https://localhost:8080/"
        },
        "outputId": "5474ff73-992a-4e5e-b7e4-49136998c027"
      },
      "execution_count": null,
      "outputs": [
        {
          "output_type": "execute_result",
          "data": {
            "text/plain": [
              "0.6680571142851117"
            ]
          },
          "metadata": {},
          "execution_count": 44
        }
      ]
    },
    {
      "cell_type": "markdown",
      "source": [
        "###Random Forest for DepDelay"
      ],
      "metadata": {
        "id": "thij4uJIOyoB"
      }
    },
    {
      "cell_type": "code",
      "source": [
        "#Random Forest Regressor Model Pipeline:\n",
        "from pyspark.ml.regression import RandomForestRegressor\n",
        "\n",
        "#define stage 5: random forest regression model                          \n",
        "rf_2 = RandomForestRegressor(featuresCol = 'features', labelCol = 'DepDelay')\n",
        "rf_pipe_2 = Pipeline(stages = [fe_pipe, vec_assemble, std_scalar, vec_assembler_2, rf_2])"
      ],
      "metadata": {
        "id": "gd-2miIeO2V5"
      },
      "execution_count": null,
      "outputs": []
    },
    {
      "cell_type": "code",
      "source": [
        "#fitting the random forest regression pipe to train data and testing it using test data\n",
        "rf_model_2 = rf_pipe_2.fit(train)\n",
        "rf_flights_dep_df = rf_model_2.transform(test)"
      ],
      "metadata": {
        "id": "NpAbRZvqgBj5"
      },
      "execution_count": null,
      "outputs": []
    },
    {
      "cell_type": "code",
      "source": [
        "#evaluating the model performance\n",
        "r2_rf_eval_2 = RegressionEvaluator(labelCol = 'DepDelay', predictionCol = 'prediction', metricName = 'r2')\n",
        "r2_rf_eval_2.evaluate(rf_model.transform(test))"
      ],
      "metadata": {
        "colab": {
          "base_uri": "https://localhost:8080/"
        },
        "id": "oWCXYv-YO6Sq",
        "outputId": "661de9b3-a79c-4290-e856-3af4c54d4e19"
      },
      "execution_count": null,
      "outputs": [
        {
          "output_type": "execute_result",
          "data": {
            "text/plain": [
              "0.588933442193029"
            ]
          },
          "metadata": {},
          "execution_count": 47
        }
      ]
    },
    {
      "cell_type": "markdown",
      "source": [
        "#Random Forest: HyperParameter Tuning for ArrDelay"
      ],
      "metadata": {
        "id": "S3UeysjpkaDI"
      }
    },
    {
      "cell_type": "code",
      "source": [
        "from pyspark.ml.regression import RandomForestRegressor\n",
        "from pyspark.ml.evaluation import RegressionEvaluator\n",
        "from pyspark.ml.tuning import ParamGridBuilder\n",
        "\n",
        "if enable_grid_search:\n",
        "  UniqueCarrier = StringIndexer(inputCol = \"UniqueCarrier\", outputCol = \"UniqueCarrier_encoded\")\n",
        "  fe_pipe = Pipeline(stages = [UniqueCarrier])\n",
        "  vec_assemble = VectorAssembler(inputCols = ['ActualElapsedTime', 'CRSElapsedTime', 'UniqueCarrier_encoded', 'Distance', 'Cancelled', 'Diverted',\n",
        "                                              'CarrierDelay', 'WeatherDelay','NASDelay','SecurityDelay','LateAircraftDelay'], \n",
        "                                 outputCol = 'va_features')\n",
        "  std_scalar = feature.StandardScaler(withMean = True, inputCol = 'va_features', outputCol = 'scaled_features') \n",
        "  vec_assembler_2 = feature.VectorAssembler(inputCols = ['scaled_features'], outputCol = 'features')\n",
        "  rf = RandomForestRegressor(featuresCol = 'features', labelCol = 'ArrDelay')\n",
        "  rf_pipe = Pipeline(stages = [fe_pipe, vec_assemble, std_scalar, vec_assembler_2, rf])\n",
        "\n",
        "  grid = ParamGridBuilder().addGrid(rf.numTrees, [3,5,8]).addGrid(rf.maxDepth, [2,5,10]).addGrid(rf.maxBins, [2,5,10]).build()\n",
        "  mse = {}\n",
        "  all_models = []\n",
        "  for j in range(len(grid)):\n",
        "      print(\"Training model {}\".format(j+1))\n",
        "      model = rf_pipe.fit(train, grid[j])\n",
        "      all_models.append(model)\n",
        "  i = 0\n",
        "  for model in all_models:\n",
        "     predictions = model.transform(test)\n",
        "     evaluator = RegressionEvaluator(labelCol = \"ArrDelay\", predictionCol = \"prediction\", metricName = 'mse')\n",
        "     mse[i] = evaluator.evaluate(predictions)\n",
        "     i+=1\n",
        "  minmse = min(mse.keys(), key = (lambda k: mse[k]))\n",
        "  print(\"Best Model\",grid[minmse])\n",
        "  best_model = all_models[minmse]\n",
        "  best_model.transform(test)\n",
        "  evaluator = RegressionEvaluator(labelCol = \"ArrDelay\", predictionCol = \"prediction\", metricName = 'mse')\n",
        "  print(\"Best Model Test MSE:\",evaluator.evaluate(predictions))\n",
        "  pass"
      ],
      "metadata": {
        "id": "2PugpQhOkcPs"
      },
      "execution_count": null,
      "outputs": []
    },
    {
      "cell_type": "code",
      "source": [
        "#tuned parameters hardcoded\n",
        "trees = 8\n",
        "depth = 10\n",
        "bins = 10\n",
        "\n",
        "#define stage 5: random forest regression model                          \n",
        "rf = RandomForestRegressor(featuresCol = 'features', labelCol = 'ArrDelay').setNumTrees(trees).setMaxDepth(depth).setMaxBins(bins)\n",
        "best_rf_pipe = Pipeline(stages = [fe_pipe, vec_assemble, std_scalar, vec_assembler_2, rf]).fit(train)"
      ],
      "metadata": {
        "id": "fEacXMZsz1Z1"
      },
      "execution_count": null,
      "outputs": []
    },
    {
      "cell_type": "code",
      "source": [
        "predictions = best_rf_pipe.transform(train)\n",
        "evaluator = RegressionEvaluator(labelCol = \"ArrDelay\", predictionCol = \"prediction\", metricName = 'r2')\n",
        "rf_train_r2 = evaluator.evaluate(predictions)\n",
        "print(\"Best Model Training R2:\", rf_train_r2)\n",
        "\n",
        "predictions = best_rf_pipe.transform(test)\n",
        "evaluator = RegressionEvaluator(labelCol = \"ArrDelay\", predictionCol = \"prediction\", metricName = 'r2')\n",
        "rf_test_r2 = evaluator.evaluate(predictions)\n",
        "print(\"Best Model Testing R2:\",rf_test_r2)"
      ],
      "metadata": {
        "colab": {
          "base_uri": "https://localhost:8080/"
        },
        "id": "H3IbYAun1Ity",
        "outputId": "eee363d3-f0c3-4c66-977f-0ca7882ef522"
      },
      "execution_count": null,
      "outputs": [
        {
          "output_type": "stream",
          "name": "stdout",
          "text": [
            "Best Model Training R2: 0.6136021164182106\n",
            "Best Model Testing R2: 0.546695576289089\n"
          ]
        }
      ]
    },
    {
      "cell_type": "markdown",
      "source": [
        "###Random Forest Hyper param tuning for DepDelay"
      ],
      "metadata": {
        "id": "0x9CJ1nJ3gPu"
      }
    },
    {
      "cell_type": "code",
      "source": [
        "from pyspark.ml.regression import RandomForestRegressor\n",
        "from pyspark.ml.evaluation import RegressionEvaluator\n",
        "from pyspark.ml.tuning import ParamGridBuilder\n",
        "\n",
        "if enable_grid_search:\n",
        "  UniqueCarrier = StringIndexer(inputCol = \"UniqueCarrier\", outputCol = \"UniqueCarrier_encoded\")\n",
        "  fe_pipe = Pipeline(stages = [UniqueCarrier])\n",
        "  vec_assemble = VectorAssembler(inputCols = ['ActualElapsedTime', 'CRSElapsedTime', 'UniqueCarrier_encoded', 'Distance', 'Cancelled', 'Diverted',\n",
        "                                              'CarrierDelay', 'WeatherDelay','NASDelay','SecurityDelay','LateAircraftDelay'], \n",
        "                                 outputCol = 'va_features')\n",
        "  std_scalar = feature.StandardScaler(withMean = True, inputCol = 'va_features', outputCol = 'scaled_features') \n",
        "  vec_assembler_2 = feature.VectorAssembler(inputCols = ['scaled_features'], outputCol = 'features')\n",
        "  rf = RandomForestRegressor(featuresCol = 'features', labelCol = 'DepDelay')\n",
        "  rf_pipe = Pipeline(stages = [fe_pipe, vec_assemble, std_scalar, vec_assembler_2, rf])\n",
        "\n",
        "  grid = ParamGridBuilder().addGrid(rf.numTrees, [3,5,8]).addGrid(rf.maxDepth, [2,5,10]).addGrid(rf.maxBins, [2,5,10]).build()\n",
        "  mse = {}\n",
        "  all_models = []\n",
        "  for j in range(len(grid)):\n",
        "      print(\"Training model {}\".format(j+1))\n",
        "      model = rf_pipe.fit(train, grid[j])\n",
        "      all_models.append(model)\n",
        "  i = 0\n",
        "  for model in all_models:\n",
        "     predictions = model.transform(test)\n",
        "     evaluator = RegressionEvaluator(labelCol = \"DepDelay\", predictionCol = \"prediction\", metricName = 'mse')\n",
        "     mse[i] = evaluator.evaluate(predictions)\n",
        "     i+=1\n",
        "  minmse = min(mse.keys(), key = (lambda k: mse[k]))\n",
        "  print(\"Best Model\",grid[minmse])\n",
        "  best_model = all_models[minmse]\n",
        "  best_model.transform(test)\n",
        "  evaluator = RegressionEvaluator(labelCol = \"DepDelay\", predictionCol = \"prediction\", metricName = 'mse')\n",
        "  print(\"Best Model Test MSE:\",evaluator.evaluate(predictions))\n",
        "  pass"
      ],
      "metadata": {
        "id": "m52saZnK3kMV"
      },
      "execution_count": null,
      "outputs": []
    },
    {
      "cell_type": "code",
      "source": [
        "#tuned parameters hardcoded\n",
        "trees = 5\n",
        "depth = 10\n",
        "bins = 10\n",
        "\n",
        "#define stage 5: random forest regression model                          \n",
        "rf = RandomForestRegressor(featuresCol = 'features', labelCol = 'DepDelay').setNumTrees(trees).setMaxDepth(depth).setMaxBins(bins)\n",
        "best_rf_pipe = Pipeline(stages = [fe_pipe, vec_assemble, std_scalar, vec_assembler_2, rf]).fit(train)"
      ],
      "metadata": {
        "id": "qx_-YB_BDhEX"
      },
      "execution_count": null,
      "outputs": []
    },
    {
      "cell_type": "code",
      "source": [
        "predictions = best_rf_pipe.transform(train)\n",
        "evaluator = RegressionEvaluator(labelCol = \"DepDelay\", predictionCol = \"prediction\", metricName = 'r2')\n",
        "rf_train_r2 = evaluator.evaluate(predictions)\n",
        "print(\"Best Model Training R2:\", rf_train_r2)\n",
        "\n",
        "predictions = best_rf_pipe.transform(test)\n",
        "evaluator = RegressionEvaluator(labelCol = \"DepDelay\", predictionCol = \"prediction\", metricName = 'r2')\n",
        "rf_test_r2 = evaluator.evaluate(predictions)\n",
        "print(\"Best Model Testing R2:\",rf_test_r2)"
      ],
      "metadata": {
        "colab": {
          "base_uri": "https://localhost:8080/"
        },
        "id": "eonEOggADl0l",
        "outputId": "ed186a6b-a4f5-469c-c95b-54fdb7bd8cf0"
      },
      "execution_count": null,
      "outputs": [
        {
          "output_type": "stream",
          "name": "stdout",
          "text": [
            "Best Model Training R2: 0.6163796490826046\n",
            "Best Model Testing R2: 0.5654977790160984\n"
          ]
        }
      ]
    },
    {
      "cell_type": "markdown",
      "source": [
        "#Gradient Boost Regressor for ArrDelay"
      ],
      "metadata": {
        "id": "OfXSj44FYHIL"
      }
    },
    {
      "cell_type": "code",
      "source": [
        "#Gradient Booster Regressor Model Pipeline:\n",
        "from pyspark.ml.regression import GBTRegressor\n",
        "\n",
        "#define stage 5: gradient booster regression model                          \n",
        "gbt = GBTRegressor(featuresCol = 'features', labelCol = 'ArrDelay')\n",
        "gbt_pipe = Pipeline(stages = [fe_pipe, vec_assemble, std_scalar, vec_assembler_2, gbt])"
      ],
      "metadata": {
        "id": "WvB3lhbpdOM_"
      },
      "execution_count": null,
      "outputs": []
    },
    {
      "cell_type": "code",
      "source": [
        "#fitting the random forest regression pipe to train data and testing it using test data\n",
        "gbt_model = gbt_pipe.fit(train)\n",
        "gbt_flights_arr_df = gbt_model.transform(test)"
      ],
      "metadata": {
        "id": "JsTVaeTf6rC8"
      },
      "execution_count": null,
      "outputs": []
    },
    {
      "cell_type": "code",
      "source": [
        "#evaluating the model performance\n",
        "r2_gbt_eval = RegressionEvaluator(labelCol = 'ArrDelay', predictionCol = 'prediction', metricName = 'r2')\n",
        "r2_gbt_eval.evaluate(gbt_model.transform(test))"
      ],
      "metadata": {
        "colab": {
          "base_uri": "https://localhost:8080/"
        },
        "id": "XQRTEmUSdgg5",
        "outputId": "845a5260-926f-41d1-863f-4774b6398d01"
      },
      "execution_count": null,
      "outputs": [
        {
          "output_type": "execute_result",
          "data": {
            "text/plain": [
              "0.7353249644248363"
            ]
          },
          "metadata": {},
          "execution_count": 56
        }
      ]
    },
    {
      "cell_type": "markdown",
      "source": [
        "#Gradient Booster Regressor for DepDelay"
      ],
      "metadata": {
        "id": "-us9qEMEPLdm"
      }
    },
    {
      "cell_type": "code",
      "source": [
        "#Gradient Booster Regressor Model Pipeline:\n",
        "from pyspark.ml.regression import GBTRegressor\n",
        "\n",
        "#define stage 5: gradient booster regression model                          \n",
        "gbt_2 = GBTRegressor(featuresCol = 'features', labelCol = 'DepDelay')\n",
        "gbt_pipe_2 = Pipeline(stages = [fe_pipe, vec_assemble, std_scalar, vec_assembler_2, gbt_2])"
      ],
      "metadata": {
        "id": "dgjxc3ShPSYp"
      },
      "execution_count": null,
      "outputs": []
    },
    {
      "cell_type": "code",
      "source": [
        "#fitting the random forest regression pipe to train data and testing it using test data\n",
        "gbt_model_2 = gbt_pipe_2.fit(train)\n",
        "gbt_flights_dep_df = gbt_model_2.transform(test)"
      ],
      "metadata": {
        "id": "I55E6g6f87vN"
      },
      "execution_count": null,
      "outputs": []
    },
    {
      "cell_type": "code",
      "source": [
        "#evaluating the model performance\n",
        "r2_gbt_eval_2 = RegressionEvaluator(labelCol = 'DepDelay', predictionCol = 'prediction', metricName = 'r2')\n",
        "r2_gbt_eval_2.evaluate(gbt_model_2.transform(test))"
      ],
      "metadata": {
        "colab": {
          "base_uri": "https://localhost:8080/"
        },
        "id": "jJ1rNBC69GTV",
        "outputId": "67b70e17-cce8-4fda-e435-e9975ec60146"
      },
      "execution_count": null,
      "outputs": [
        {
          "output_type": "execute_result",
          "data": {
            "text/plain": [
              "0.7429113477348703"
            ]
          },
          "metadata": {},
          "execution_count": 59
        }
      ]
    },
    {
      "cell_type": "markdown",
      "source": [
        "#Gradient Booster Regression: HyperParameter Tuning for ArrDelay"
      ],
      "metadata": {
        "id": "dyv7Dlu28aya"
      }
    },
    {
      "cell_type": "code",
      "source": [
        "from pyspark.ml.regression import GBTRegressor\n",
        "\n",
        "if enable_grid_search:\n",
        "  UniqueCarrier = StringIndexer(inputCol = \"UniqueCarrier\", outputCol = \"UniqueCarrier_encoded\")\n",
        "  fe_pipe = Pipeline(stages = [UniqueCarrier])\n",
        "  vec_assemble = VectorAssembler(inputCols = ['ActualElapsedTime', 'CRSElapsedTime', 'UniqueCarrier_encoded', 'Distance', 'Cancelled', 'Diverted',\n",
        "                                              'CarrierDelay', 'WeatherDelay','NASDelay','SecurityDelay','LateAircraftDelay'], \n",
        "                                 outputCol = 'va_features')\n",
        "  std_scalar = feature.StandardScaler(withMean = True, inputCol = 'va_features', outputCol = 'scaled_features') \n",
        "  vec_assembler_2 = feature.VectorAssembler(inputCols = ['scaled_features'], outputCol = 'features')\n",
        "  gbt = GBTRegressor(featuresCol = 'features', labelCol = 'ArrDelay')\n",
        "  gbt_pipe = Pipeline(stages = [fe_pipe, vec_assemble, std_scalar, vec_assembler_2, gbt])\n",
        "  grid = ParamGridBuilder().addGrid(gbt.maxDepth, [2, 5, 10]).addGrid(gbt.maxBins, [10, 20, 25]).build()\n",
        "  mse = {}\n",
        "  all_models = []\n",
        "  for j in range(len(grid)):\n",
        "      print(\"Training model {}\".format(j+1))\n",
        "      model = gbt_pipe.fit(train, grid[j])\n",
        "      all_models.append(model)\n",
        "  i=0\n",
        "  for model in all_models:\n",
        "     predictions = model.transform(test)\n",
        "     evaluator = RegressionEvaluator(labelCol = \"ArrDelay\", predictionCol = \"prediction\", metricName = 'mse')\n",
        "     mse[i] = evaluator.evaluate(predictions)\n",
        "     i+=1\n",
        "  minmse = min(mse.keys(), key=(lambda k: mse[k]))\n",
        "  print(\"Best Model\",grid[minmse])\n",
        "  best_model = all_models[minmse]\n",
        "  best_model.transform(test)\n",
        "  evaluator = RegressionEvaluator(labelCol = \"ArrDelay\", predictionCol = \"prediction\", metricName = 'mse')\n",
        "  print(\"Best Model Test MSE:\",evaluator.evaluate(predictions))\n",
        "  pass"
      ],
      "metadata": {
        "id": "HbMKMJFv8Qjh"
      },
      "execution_count": null,
      "outputs": []
    },
    {
      "cell_type": "code",
      "source": [
        "#tuned parameters hardcoded\n",
        "depth = 5\n",
        "bins = 25\n",
        "\n",
        "gbt = GBTRegressor().setLabelCol('ArrDelay').setFeaturesCol('features').setMaxDepth(depth).setMaxBins(bins)\n",
        "best_gbt_pipe = Pipeline(stages = [fe_pipe, vec_assemble, std_scalar, vec_assembler_2, gbt]).fit(train)"
      ],
      "metadata": {
        "id": "zzIzXujy_mJD"
      },
      "execution_count": null,
      "outputs": []
    },
    {
      "cell_type": "code",
      "source": [
        "predictions = best_gbt_pipe.transform(train)\n",
        "evaluator = RegressionEvaluator(labelCol = \"ArrDelay\", predictionCol = \"prediction\", metricName = 'r2')\n",
        "gbt_train_r2 = evaluator.evaluate(predictions)\n",
        "print(\"Best Model Training R2:\", gbt_train_r2)\n",
        "\n",
        "predictions = best_rf_pipe.transform(test)\n",
        "evaluator = RegressionEvaluator(labelCol = \"ArrDelay\", predictionCol = \"prediction\", metricName = 'r2')\n",
        "gbt_test_r2 = evaluator.evaluate(predictions)\n",
        "print(\"Best Model Test R2:\",gbt_test_r2)"
      ],
      "metadata": {
        "colab": {
          "base_uri": "https://localhost:8080/"
        },
        "id": "gRIa1U43MUa7",
        "outputId": "ff5e66a6-1212-46cf-c96a-ea039afd3101"
      },
      "execution_count": null,
      "outputs": [
        {
          "output_type": "stream",
          "name": "stdout",
          "text": [
            "Best Model Training R2: 0.7525984094216058\n",
            "Best Model Test R2: 0.430883548306745\n"
          ]
        }
      ]
    },
    {
      "cell_type": "markdown",
      "source": [
        "#Gradient Booster Regression: HyperParameter Tuning for DepDelay"
      ],
      "metadata": {
        "id": "6sXsge6jM5fs"
      }
    },
    {
      "cell_type": "code",
      "source": [
        "from pyspark.ml.regression import GBTRegressor\n",
        "\n",
        "if enable_grid_search:\n",
        "  UniqueCarrier = StringIndexer(inputCol = \"UniqueCarrier\", outputCol = \"UniqueCarrier_encoded\")\n",
        "  fe_pipe = Pipeline(stages = [UniqueCarrier])\n",
        "  vec_assemble = VectorAssembler(inputCols = ['ActualElapsedTime', 'CRSElapsedTime', 'UniqueCarrier_encoded', 'Distance', 'Cancelled', 'Diverted',\n",
        "                                              'CarrierDelay', 'WeatherDelay','NASDelay','SecurityDelay','LateAircraftDelay'], \n",
        "                                 outputCol = 'va_features')\n",
        "  std_scalar = feature.StandardScaler(withMean = True, inputCol = 'va_features', outputCol = 'scaled_features') \n",
        "  vec_assembler_2 = feature.VectorAssembler(inputCols = ['scaled_features'], outputCol = 'features')\n",
        "  gbt = GBTRegressor(featuresCol = 'features', labelCol = 'DepDelay')\n",
        "  gbt_pipe = Pipeline(stages = [fe_pipe, vec_assemble, std_scalar, vec_assembler_2, gbt])\n",
        "  grid = ParamGridBuilder().addGrid(gbt.maxDepth, [2, 5, 10]).addGrid(gbt.maxBins, [10, 20, 25]).build()\n",
        "  mse = {}\n",
        "  all_models = []\n",
        "  for j in range(len(grid)):\n",
        "      print(\"Training model {}\".format(j+1))\n",
        "      model = gbt_pipe.fit(train, grid[j])\n",
        "      all_models.append(model)\n",
        "  i=0\n",
        "  for model in all_models:\n",
        "     predictions = model.transform(test)\n",
        "     evaluator = RegressionEvaluator(labelCol = \"DepDelay\", predictionCol = \"prediction\", metricName = 'mse')\n",
        "     mse[i] = evaluator.evaluate(predictions)\n",
        "     i+=1\n",
        "  minmse = min(mse.keys(), key=(lambda k: mse[k]))\n",
        "  print(\"Best Model\",grid[minmse])\n",
        "  best_model = all_models[minmse]\n",
        "  best_model.transform(test)\n",
        "  evaluator = RegressionEvaluator(labelCol = \"DepDelay\", predictionCol = \"prediction\", metricName = 'mse')\n",
        "  print(\"Best Model Test MSE:\",evaluator.evaluate(predictions))\n",
        "  pass"
      ],
      "metadata": {
        "id": "LxOwSySEM-l6"
      },
      "execution_count": null,
      "outputs": []
    },
    {
      "cell_type": "code",
      "source": [
        "#tuned parameters hardcoded\n",
        "depth = 5\n",
        "bins = 25\n",
        "\n",
        "gbt_2 = GBTRegressor().setLabelCol('DepDelay').setFeaturesCol('features').setMaxDepth(depth).setMaxBins(bins)\n",
        "best_gbt_pipe_2 = Pipeline(stages = [fe_pipe, vec_assemble, std_scalar, vec_assembler_2, gbt_2]).fit(train)"
      ],
      "metadata": {
        "id": "wfHmBDCCNPOz"
      },
      "execution_count": null,
      "outputs": []
    },
    {
      "cell_type": "code",
      "source": [
        "predictions = best_gbt_pipe.transform(train)\n",
        "evaluator = RegressionEvaluator(labelCol = \"DepDelay\", predictionCol = \"prediction\", metricName = 'r2')\n",
        "gbt_train_r2 = evaluator.evaluate(predictions)\n",
        "print(\"Best Model Training R2:\", gbt_train_r2)\n",
        "\n",
        "predictions = best_rf_pipe.transform(test)\n",
        "evaluator = RegressionEvaluator(labelCol = \"DepDelay\", predictionCol = \"prediction\", metricName = 'r2')\n",
        "gbt_test_r2 = evaluator.evaluate(predictions)\n",
        "print(\"Best Model Test R2:\",gbt_test_r2)"
      ],
      "metadata": {
        "colab": {
          "base_uri": "https://localhost:8080/"
        },
        "id": "0ejvUaeONPgJ",
        "outputId": "131b297f-a4be-44b3-ff60-78aa051657ca"
      },
      "execution_count": null,
      "outputs": [
        {
          "output_type": "stream",
          "name": "stdout",
          "text": [
            "Best Model Training R2: 0.6305647355997702\n",
            "Best Model Test R2: 0.5654977790160984\n"
          ]
        }
      ]
    }
  ],
  "metadata": {
    "colab": {
      "provenance": [],
      "collapsed_sections": [
        "xgp7nfNwVDaH",
        "OOXsoIoaU7QQ",
        "YbCgx0-rckVv",
        "8yF8m7PuKNzb",
        "yi3klga1OJLQ",
        "q7MUbA2oOQ7B",
        "ugcEB-0kUx6X",
        "thij4uJIOyoB",
        "OfXSj44FYHIL",
        "-us9qEMEPLdm"
      ]
    },
    "kernelspec": {
      "display_name": "Python 3",
      "name": "python3"
    },
    "language_info": {
      "name": "python"
    }
  },
  "nbformat": 4,
  "nbformat_minor": 0
}